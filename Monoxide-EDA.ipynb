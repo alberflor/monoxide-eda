{
 "cells": [
  {
   "cell_type": "code",
   "execution_count": 1,
   "id": "96b62382",
   "metadata": {},
   "outputs": [],
   "source": [
    "import pandas as pd\n",
    "import matplotlib.pyplot as plt\n",
    "import seaborn as sns\n",
    "import numpy as np\n",
    "import os\n",
    "\n",
    "%matplotlib inline"
   ]
  },
  {
   "cell_type": "markdown",
   "id": "741e1ae7",
   "metadata": {},
   "source": [
    "## Dataset Description\n",
    "#### Type: Timeseries, Multivariate\n",
    "\n",
    "The dataset consist on the reading of 14 temperature modulated mox sensors.\n",
    "Each experiment consists of 100 measurements: 10 experimental mixtures uniformly distributed in the range of 0 - 20 ppm and 10 replicates per concentration.\n",
    "\n",
    "At the beggining of each experiment the gas chamber is cleaned by 15 mins using a stream of 240 mln/min. And after that the gas mixtures are released at 240mln/min, thus assuming the flow rate is constant.\n",
    "\n",
    "A single experiment lasted 25 hours (100 samples x 15 minutes / sample) and was replicated on 13 working days spanning in total 17 days.\n"
   ]
  },
  {
   "cell_type": "markdown",
   "id": "3cfbc24f",
   "metadata": {},
   "source": [
    "## Data Loading"
   ]
  },
  {
   "cell_type": "code",
   "execution_count": 3,
   "id": "fae3bc42",
   "metadata": {},
   "outputs": [
    {
     "data": {
      "text/plain": [
       "['20160930_203718.csv',\n",
       " '20161001_231809.csv',\n",
       " '20161003_085624.csv',\n",
       " '20161004_104124.csv',\n",
       " '20161005_140846.csv',\n",
       " '20161006_182224.csv',\n",
       " '20161007_210049.csv',\n",
       " '20161008_234508.csv',\n",
       " '20161010_095046.csv',\n",
       " '20161011_113032.csv',\n",
       " '20161013_143355.csv',\n",
       " '20161014_184659.csv',\n",
       " '20161016_053656.csv']"
      ]
     },
     "execution_count": 3,
     "metadata": {},
     "output_type": "execute_result"
    }
   ],
   "source": [
    "path = \"./dataset_tempMod_CO_RH\"\n",
    "\n",
    "# I get a list of the filenames for later use in a for loop.\n",
    "# Then they get sorted by name and the last file which is the Readme.txt gets sliced.\n",
    "files = sorted(os.listdir(path))[:-1]\n",
    "files"
   ]
  },
  {
   "cell_type": "code",
   "execution_count": null,
   "id": "354012ef",
   "metadata": {},
   "outputs": [
    {
     "name": "stdout",
     "output_type": "stream",
     "text": [
      "./dataset_tempMod_CO_RH/20160930_203718.csv loaded\n",
      "./dataset_tempMod_CO_RH/20161001_231809.csv loaded\n",
      "./dataset_tempMod_CO_RH/20161003_085624.csv loaded\n",
      "./dataset_tempMod_CO_RH/20161004_104124.csv loaded\n",
      "./dataset_tempMod_CO_RH/20161005_140846.csv loaded\n",
      "./dataset_tempMod_CO_RH/20161006_182224.csv loaded\n"
     ]
    }
   ],
   "source": [
    "# Here I load the first csv as a exploratory dataset.\n",
    "df_list = []\n",
    "\n",
    "for i in files[:]:\n",
    "    try:\n",
    "        ptf = path + \"/\" + i\n",
    "        temp_df = pd.read_csv(ptf)\n",
    "        df_list.append(temp_df.iloc[:,:20])\n",
    "        #current_df = pd.read_csv(ptf)\n",
    "        #df = pd.concat([df, pd.read_csv(ptf)], axis=0)\n",
    "       \n",
    "        print(ptf + \" \" + \"loaded\")\n",
    "    except:\n",
    "        print(ptf + \" not loaded\")\n",
    " \n",
    "df = pd.concat(df_list, axis=0)"
   ]
  },
  {
   "cell_type": "code",
   "execution_count": null,
   "id": "938aaaf6",
   "metadata": {},
   "outputs": [],
   "source": [
    "df.head(10)"
   ]
  },
  {
   "cell_type": "markdown",
   "id": "45959c1c",
   "metadata": {},
   "source": [
    "## Data structure and NA values\n",
    "Now we are going to check the df memory usage and formats and the presence of NaN values in each column."
   ]
  },
  {
   "cell_type": "code",
   "execution_count": null,
   "id": "48e7e7b1",
   "metadata": {
    "scrolled": true
   },
   "outputs": [],
   "source": [
    "df.info()"
   ]
  },
  {
   "cell_type": "code",
   "execution_count": null,
   "id": "a064ead8",
   "metadata": {},
   "outputs": [],
   "source": [
    "pd.set_option('display.max_rows',None)\n",
    "df.isna().sum()"
   ]
  },
  {
   "cell_type": "code",
   "execution_count": null,
   "id": "8f2a2ac1",
   "metadata": {},
   "outputs": [],
   "source": [
    "df = df.iloc[:,:20]\n",
    "df.info()"
   ]
  },
  {
   "cell_type": "code",
   "execution_count": null,
   "id": "012bc9ca",
   "metadata": {},
   "outputs": [],
   "source": [
    "fcols = df.select_dtypes('float').columns\n",
    "df[fcols] = df[fcols].apply(pd.to_numeric, downcast='float')\n",
    "df.info()"
   ]
  },
  {
   "cell_type": "markdown",
   "id": "1dd964ac",
   "metadata": {},
   "source": [
    "## Dataset Description\n"
   ]
  },
  {
   "cell_type": "code",
   "execution_count": null,
   "id": "db1f0d3f",
   "metadata": {
    "scrolled": false
   },
   "outputs": [],
   "source": [
    "#Set option to display float format instead of scientific notation.\n",
    "pd.set_option('float_format', '{:f}'.format)\n",
    "df.describe()"
   ]
  },
  {
   "cell_type": "markdown",
   "id": "01d57b84",
   "metadata": {},
   "source": [
    "From the R1 to R14 sensor descriptions, we can appreciate that the max values are far from the 75% quartile, thus we can assume there's presence of outliers."
   ]
  },
  {
   "cell_type": "code",
   "execution_count": null,
   "id": "1832d6f7",
   "metadata": {
    "scrolled": false
   },
   "outputs": [],
   "source": [
    "df.hist(figsize=(20,20));#;"
   ]
  },
  {
   "cell_type": "markdown",
   "id": "39213377",
   "metadata": {},
   "source": [
    "From the previous distribution charts we can see that the data tends to be left-skewed"
   ]
  },
  {
   "cell_type": "code",
   "execution_count": null,
   "id": "8f108e1a",
   "metadata": {
    "scrolled": false
   },
   "outputs": [],
   "source": [
    "df.iloc[:,1:].boxplot(figsize=(20,10));#;\n",
    "plt.xticks(rotation=45);#;"
   ]
  },
  {
   "cell_type": "code",
   "execution_count": null,
   "id": "26a2c65c",
   "metadata": {
    "scrolled": false
   },
   "outputs": [],
   "source": [
    "df.plot('Time (s)', 'Flow rate (mL/min)')\n",
    "plt.grid()"
   ]
  },
  {
   "cell_type": "markdown",
   "id": "10176788",
   "metadata": {},
   "source": [
    "Presence of outliers in the flow rate data, probably due to instrumental noise."
   ]
  },
  {
   "cell_type": "code",
   "execution_count": null,
   "id": "6fc0c508",
   "metadata": {
    "scrolled": false
   },
   "outputs": [],
   "source": [
    "df.plot('Time (s)', 'Temperature (C)')\n",
    "plt.ylim([25,30])\n",
    "plt.grid()"
   ]
  },
  {
   "cell_type": "code",
   "execution_count": null,
   "id": "c90c0629",
   "metadata": {
    "scrolled": true
   },
   "outputs": [],
   "source": [
    "df.plot('Time (s)', 'Humidity (%r.h.)')\n",
    "#plt.xlim([0,15000])\n",
    "plt.grid()"
   ]
  },
  {
   "cell_type": "code",
   "execution_count": null,
   "id": "7998ca29",
   "metadata": {},
   "outputs": [],
   "source": [
    "df['Time (s)'] = pd.to_timedelta(df['Time (s)'], unit='sec')\n",
    "df.head(10)"
   ]
  },
  {
   "cell_type": "code",
   "execution_count": null,
   "id": "aeccb7be",
   "metadata": {},
   "outputs": [],
   "source": [
    "df.set_index('Time (s)', inplace=True)\n",
    "resampled = df.resample('45S', label='right').mean()\n",
    "resampled.head()"
   ]
  },
  {
   "cell_type": "code",
   "execution_count": null,
   "id": "c7dd9bff",
   "metadata": {
    "scrolled": true
   },
   "outputs": [],
   "source": [
    "resampled = resampled.reset_index()\n",
    "resampled.head()\n",
    "#resampled['Time (s)'] = [x.seconds for x in resampled['Time (s)']]"
   ]
  },
  {
   "cell_type": "code",
   "execution_count": null,
   "id": "94a26433",
   "metadata": {},
   "outputs": [],
   "source": [
    "resampled['Time (s)'] = [x.seconds for x in resampled['Time (s)']]\n"
   ]
  },
  {
   "cell_type": "code",
   "execution_count": null,
   "id": "5d5f5a84",
   "metadata": {},
   "outputs": [],
   "source": [
    "resampled.head(10)"
   ]
  },
  {
   "cell_type": "code",
   "execution_count": null,
   "id": "c9c18f52",
   "metadata": {},
   "outputs": [],
   "source": [
    "resampled.plot('Time (s)', 'Flow rate (mL/min)', grid=True)"
   ]
  },
  {
   "cell_type": "code",
   "execution_count": null,
   "id": "ba035542",
   "metadata": {},
   "outputs": [],
   "source": [
    "columns = ['Time (s)', 'CO (ppm)', 'Humidity (%r.h.)', 'Temperature (C)',\n",
    "       'Flow rate (mL/min)', 'Heater voltage (V)']\n",
    "#resampled.columns\n",
    "pd.plotting.scatter_matrix(resampled[columns], alpha=0.2, figsize=(12,12));#;"
   ]
  },
  {
   "cell_type": "code",
   "execution_count": null,
   "id": "91933222",
   "metadata": {},
   "outputs": [],
   "source": [
    "columns = ['Time (s)', 'CO (ppm)', 'R7 (MOhm)', 'R8 (MOhm)', 'R9 (MOhm)', 'R10 (MOhm)'\n",
    "          , 'R11 (MOhm)','R12 (MOhm)','R13 (MOhm)','R14 (MOhm)' ]\n",
    "#resampled.columns\n",
    "pd.plotting.scatter_matrix(resampled[columns], alpha=0.1, figsize=(15,15));#;"
   ]
  },
  {
   "cell_type": "markdown",
   "id": "55b00ecc",
   "metadata": {},
   "source": [
    "## Data Pre-processing."
   ]
  },
  {
   "cell_type": "markdown",
   "id": "a88b5d27",
   "metadata": {},
   "source": [
    "And the boxplot chart shows that there's presence of outliers in the sensor readings."
   ]
  },
  {
   "cell_type": "code",
   "execution_count": null,
   "id": "ec02c38c",
   "metadata": {},
   "outputs": [],
   "source": [
    "from sklearn.preprocessing import PowerTransformer, QuantileTransformer"
   ]
  },
  {
   "cell_type": "code",
   "execution_count": null,
   "id": "37b2d58a",
   "metadata": {},
   "outputs": [],
   "source": []
  }
 ],
 "metadata": {
  "kernelspec": {
   "display_name": "Python 3",
   "language": "python",
   "name": "python3"
  },
  "language_info": {
   "codemirror_mode": {
    "name": "ipython",
    "version": 3
   },
   "file_extension": ".py",
   "mimetype": "text/x-python",
   "name": "python",
   "nbconvert_exporter": "python",
   "pygments_lexer": "ipython3",
   "version": "3.8.11"
  }
 },
 "nbformat": 4,
 "nbformat_minor": 5
}
